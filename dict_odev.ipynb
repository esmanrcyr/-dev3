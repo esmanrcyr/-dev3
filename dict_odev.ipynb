{
 "cells": [
  {
   "cell_type": "markdown",
   "metadata": {},
   "source": [
    "### Ödev 1\n",
    "\n",
    "Bir sözlük oluşturulur ve bu sözlükte öğrencilerin isimleri ve Matematik, Fizik, Kimya notları tutulur. Kullanıcıdan isim ve ders ismi(Matematik, Fizik, Kimya) istenir ve bu bilgilere göre çıktı verilir."
   ]
  },
  {
   "cell_type": "code",
   "execution_count": 1,
   "metadata": {},
   "outputs": [
    {
     "data": {
      "text/plain": [
       "89"
      ]
     },
     "execution_count": 1,
     "metadata": {},
     "output_type": "execute_result"
    }
   ],
   "source": [
    "sozluk={\"esma\":{\"matematik\":89,\n",
    "                 \"fizik\":75,\n",
    "                 \"kimya\":91},\n",
    "        \"hakan\":{\"matematik\":65,\n",
    "                 \"fizik\":71,\n",
    "                 \"kimya\":32},\n",
    "        \"irem\":{\"matematik\":93,\n",
    "                \"fizik\":79,\n",
    "                \"kimya\":59}\n",
    "            }\n",
    "isim=input(\"not bilgisini istediğiniz ögrencinin ismini giriniz\")\n",
    "ders=input(\"ögrenmek istediğiniz ders ismi\")\n",
    "sozluk[isim][ders]"
   ]
  },
  {
   "cell_type": "markdown",
   "metadata": {},
   "source": [
    "### Ödev 2\n",
    "\n",
    "Sözlük üzerinde değerleri değiştirme, yeni değer ekleme, kullanıcıya ulaşmak istediği bilgileri sorma gibi uygulamalar yapın."
   ]
  },
  {
   "cell_type": "code",
   "execution_count": 3,
   "metadata": {},
   "outputs": [
    {
     "data": {
      "text/plain": [
       "{'esma': {'matematik': 89, 'fizik': 75, 'kimya': 91},\n",
       " 'hakan': {'matematik': 65, 'fizik': 87, 'kimya': 32},\n",
       " 'irem': {'matematik': 93, 'fizik': 79, 'kimya': 59},\n",
       " 'osman': {'matematik': 15, 'fizik': 43, 'kimya': 56}}"
      ]
     },
     "execution_count": 3,
     "metadata": {},
     "output_type": "execute_result"
    }
   ],
   "source": [
    "sozluk={\"esma\":{\"matematik\":89,\n",
    "                 \"fizik\":75,\n",
    "                 \"kimya\":91},\n",
    "        \"hakan\":{\"matematik\":65,\n",
    "                 \"fizik\":71,\n",
    "                 \"kimya\":32},\n",
    "        \"irem\":{\"matematik\":93,\n",
    "                \"fizik\":79,\n",
    "                \"kimya\":59}\n",
    "            }\n",
    "\n",
    "sozluk[\"osman\"]={\"matematik\":15,\n",
    "                 \"fizik\":43,\n",
    "                 \"kimya\":56}\n",
    "sozluk\n",
    "sozluk[\"hakan\"][\"fizik\"]=87\n",
    "sozluk\n"
   ]
  }
 ],
 "metadata": {
  "kernelspec": {
   "display_name": "Python 3",
   "language": "python",
   "name": "python3"
  },
  "language_info": {
   "codemirror_mode": {
    "name": "ipython",
    "version": 3
   },
   "file_extension": ".py",
   "mimetype": "text/x-python",
   "name": "python",
   "nbconvert_exporter": "python",
   "pygments_lexer": "ipython3",
   "version": "3.11.8"
  }
 },
 "nbformat": 4,
 "nbformat_minor": 2
}
